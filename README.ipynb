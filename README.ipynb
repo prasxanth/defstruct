{
 "cells": [
  {
   "cell_type": "markdown",
   "id": "b414d842",
   "metadata": {
    "hideCode": true,
    "hidePrompt": true
   },
   "source": [
    "# defstruct\n",
    "\n",
    "<font size = \"+2\"> Simple class declaration with automatic property definitions and type validation </font>"
   ]
  },
  {
   "cell_type": "markdown",
   "id": "ef1c2e4a",
   "metadata": {
    "hideCode": true,
    "hidePrompt": true
   },
   "source": [
    "## Installation\n",
    "\n",
    "Install using `setup.py` (`--user` is optional)\n",
    "\n",
    "```bash\n",
    "python3 setup.py install --user\n",
    "```\n",
    "\n",
    "or in development mode,\n",
    "\n",
    "```bash\n",
    "python3 setup.py develop --user\n",
    "```\n",
    "\n",
    "##  API\n",
    "\n",
    "This package provides the `defstruct` macro for simple class declarations. It aims to reduce boilerplate code by automatically defining properties. It also provides type validation through `pydantic.validate_arguments`. \n",
    "\n",
    "### Usage\n",
    "The typical use of `defstruct` resembles the simplest form of [dataclasses](https://docs.python.org/3/library/dataclasses.html), [attrs](https://github.com/python-attrs/attrs) or [pydantic](https://github.com/samuelcolvin/pydantic),"
   ]
  },
  {
   "cell_type": "code",
   "execution_count": 1,
   "id": "36f7e57d",
   "metadata": {
    "ExecuteTime": {
     "end_time": "2021-11-17T04:19:58.317604Z",
     "start_time": "2021-11-17T04:19:58.100604Z"
    },
    "hideCode": false,
    "hidePrompt": true
   },
   "outputs": [],
   "source": [
    "(require [defstruct.defs [defstruct]])\n",
    "\n",
    "  (defstruct struct []  (^(of float) data \n",
    "                          ^int x \n",
    "                          &optional ^(of str) [s None]\n",
    "                          &kwonly ^float [f 0.5]))"
   ]
  },
  {
   "cell_type": "code",
   "execution_count": 2,
   "id": "04bd0b55",
   "metadata": {
    "ExecuteTime": {
     "end_time": "2021-11-17T04:19:59.322831Z",
     "start_time": "2021-11-17T04:19:59.279351Z"
    },
    "hideCode": false,
    "hidePrompt": true
   },
   "outputs": [],
   "source": [
    "(setv test-struct (struct 0.3 2 \"pqr\"))"
   ]
  },
  {
   "cell_type": "code",
   "execution_count": 3,
   "id": "57bcda03",
   "metadata": {
    "ExecuteTime": {
     "end_time": "2021-11-17T04:19:59.861096Z",
     "start_time": "2021-11-17T04:19:59.855777Z"
    },
    "hideCode": false,
    "hidePrompt": true
   },
   "outputs": [
    {
     "data": {
      "text/plain": [
       "(struct :data 0.3 :x 2 :s 'pqr' :f 0.5)"
      ]
     },
     "execution_count": 3,
     "metadata": {},
     "output_type": "execute_result"
    }
   ],
   "source": [
    "test-struct"
   ]
  },
  {
   "cell_type": "markdown",
   "id": "cb7411ea",
   "metadata": {
    "hideCode": true,
    "hidePrompt": true
   },
   "source": [
    "As seen above, the `__repr__` method is provided for displaying a nicely formatted string representation of `defstruct` objects.\n",
    "\n",
    "### `defproperty`\n",
    "\n",
    "Properties associated with each input are defined automatically. The convention is to represent \"internal\" (private) class variables by surrounding them with double underscores. So the variable `data` in the struct above would have the following, automatically defined, property \n",
    "\n",
    "```\n",
    "(with-decorator property\n",
    "  (defn data [self]\n",
    "    return __self.data__))\n",
    "```\n",
    "\n",
    "The objective is to have read-only properties, so setters are not automatically defined.\n",
    "\n",
    "A `defproperty` macro is provided for defining custom properties, \n",
    "\n",
    "```hy\n",
    "(defmacro defproperty [attribute &optional docstring &rest body]\n",
    "  `(with-decorator property\n",
    "     (defn ~(HySymbol attribute) [self]\n",
    "       ~docstring\n",
    "       (do ~@body)\n",
    "       (return (getattr self (+ \"__\" ~attribute \"__\"))))))\n",
    "```\n",
    "\n",
    "`defproperty` is used to automatically define the properties in `defstruct`.\n",
    "\n",
    "### Customization\n",
    "\n",
    "`defstruct` is flexible allowing for definition of custom properties, methods and even changing the automatically defined properties."
   ]
  },
  {
   "cell_type": "code",
   "execution_count": 17,
   "id": "1b393271",
   "metadata": {
    "ExecuteTime": {
     "end_time": "2021-11-17T18:03:45.491978Z",
     "start_time": "2021-11-17T18:03:45.398671Z"
    },
    "hideCode": false,
    "hidePrompt": true
   },
   "outputs": [],
   "source": [
    "(require [defstruct.defs [defproperty]])\n",
    "\n",
    "(defstruct struct-custom [] (^(of float) data \n",
    "                              ^(of int) x \n",
    "                              ^(of str) doc) \n",
    "           \n",
    "    \"Documentation for custom struct.\"\n",
    "\n",
    "    (defproperty \"info\"\n",
    "        (setattr self \"__info__\" (+ self.data self.x))))"
   ]
  },
  {
   "cell_type": "code",
   "execution_count": 18,
   "id": "d3d3fc29",
   "metadata": {
    "ExecuteTime": {
     "end_time": "2021-11-17T18:03:47.120642Z",
     "start_time": "2021-11-17T18:03:47.086041Z"
    },
    "hideCode": false,
    "hidePrompt": true
   },
   "outputs": [],
   "source": [
    "(setv test-struct-custom (struct-custom 2.0 3 \"abc\"))"
   ]
  },
  {
   "cell_type": "code",
   "execution_count": 19,
   "id": "59f6ced3",
   "metadata": {
    "ExecuteTime": {
     "end_time": "2021-11-17T18:03:47.339811Z",
     "start_time": "2021-11-17T18:03:47.334629Z"
    }
   },
   "outputs": [
    {
     "data": {
      "text/plain": [
       "(struct_custom :data 2.0 :x 3 :doc 'abc' :info 5.0)"
      ]
     },
     "execution_count": 19,
     "metadata": {},
     "output_type": "execute_result"
    }
   ],
   "source": [
    "test-struct-custom"
   ]
  },
  {
   "cell_type": "markdown",
   "id": "bd779c26",
   "metadata": {},
   "source": [
    "A `__post-init__` method allows for implementating functionality after `__init__`,"
   ]
  },
  {
   "cell_type": "code",
   "execution_count": 25,
   "id": "0e1cfbd8",
   "metadata": {
    "ExecuteTime": {
     "end_time": "2021-11-17T18:29:41.984778Z",
     "start_time": "2021-11-17T18:29:41.891047Z"
    }
   },
   "outputs": [],
   "source": [
    "(defstruct struct-post-init [] (^(of float) data \n",
    "                                 ^(of int) x \n",
    "                                 &optional ^(of str) [s \"doc\"]) \n",
    "           \n",
    "    \"Documentation for struct with __post-init__ method.\"\n",
    "\n",
    "    (defproperty \"info\"\n",
    "        (setattr self \"__info__\" (+ self.data self.x))))"
   ]
  },
  {
   "cell_type": "code",
   "execution_count": 26,
   "id": "8bc19850",
   "metadata": {
    "ExecuteTime": {
     "end_time": "2021-11-17T18:29:42.364453Z",
     "start_time": "2021-11-17T18:29:42.330662Z"
    }
   },
   "outputs": [],
   "source": [
    "(setv test-struct-post-init (struct-post-init 2.0 3))"
   ]
  },
  {
   "cell_type": "code",
   "execution_count": 27,
   "id": "ae8c6080",
   "metadata": {
    "ExecuteTime": {
     "end_time": "2021-11-17T18:29:42.752404Z",
     "start_time": "2021-11-17T18:29:42.746239Z"
    }
   },
   "outputs": [
    {
     "data": {
      "text/plain": [
       "(struct_post_init :data 2.0 :x 3 :s 'doc' :info 5.0)"
      ]
     },
     "execution_count": 27,
     "metadata": {},
     "output_type": "execute_result"
    }
   ],
   "source": [
    "test-struct-post-init"
   ]
  },
  {
   "cell_type": "markdown",
   "id": "9832e555",
   "metadata": {},
   "source": [
    "Of course one the `__init__` method can be overwritten if needed."
   ]
  },
  {
   "cell_type": "markdown",
   "id": "ded12408",
   "metadata": {
    "hideCode": false,
    "hidePrompt": true
   },
   "source": [
    "### Type validation\n",
    "\n",
    "Basic type validation is provided by `pydantic.validate_arguments`,"
   ]
  },
  {
   "cell_type": "code",
   "execution_count": 28,
   "id": "d561d9e7",
   "metadata": {
    "ExecuteTime": {
     "end_time": "2021-11-17T18:36:22.370635Z",
     "start_time": "2021-11-17T18:36:22.361094Z"
    }
   },
   "outputs": [
    {
     "name": "stderr",
     "output_type": "stream",
     "text": [
      "\u001b[0;31mTraceback (most recent call last):\n",
      "  File \"/home/prashanth/.local/lib/python3.6/site-packages/calysto_hy/kernel.py\", line 145, in do_execute_direct\n",
      "    eval(exec_code, self.locals)\n",
      "  File \"In [28]\", line 1, in <module>\n",
      "  File \"/usr/local/lib/python3.6/dist-packages/pydantic/decorator.py\", line 39, in wrapper_function\n",
      "    return vd.call(*args, **kwargs)\n",
      "  File \"/usr/local/lib/python3.6/dist-packages/pydantic/decorator.py\", line 132, in call\n",
      "    m = self.init_model_instance(*args, **kwargs)\n",
      "  File \"/usr/local/lib/python3.6/dist-packages/pydantic/decorator.py\", line 129, in init_model_instance\n",
      "    return self.model(**values)\n",
      "  File \"/usr/local/lib/python3.6/dist-packages/pydantic/main.py\", line 406, in __init__\n",
      "    raise validation_error\n",
      "pydantic.error_wrappers.ValidationError: 1 validation error for Init\n",
      "x\n",
      "  value is not a valid integer (type=type_error.integer)\n",
      "\n",
      "\u001b[0m"
     ]
    }
   ],
   "source": [
    "(setv test-struct-type-validate (struct 0.3 [\"wrong type\"] \"pqr\"))"
   ]
  },
  {
   "cell_type": "markdown",
   "id": "39ffa8d0",
   "metadata": {},
   "source": [
    "## Tests\n",
    "Ensure `hy` is in the executable path. Run the `tests.hy` command line script from inside the [tests](tests) directory,\n",
    "\n",
    "```bash\n",
    "./tests.hy\n",
    "```\n",
    "\n",
    "A log file with the start timestamp will be created in the [logs](tests/logs) subdirectory."
   ]
  }
 ],
 "metadata": {
  "hide_code_all_hidden": true,
  "kernelspec": {
   "display_name": "Calysto Hy",
   "language": "hy",
   "name": "calysto_hy"
  },
  "language_info": {
   "codemirror_mode": {
    "name": "scheme"
   },
   "mimetype": "text/x-hylang",
   "name": "hy",
   "pygments_lexer": "lisp"
  },
  "toc": {
   "base_numbering": 1,
   "nav_menu": {},
   "number_sections": true,
   "sideBar": true,
   "skip_h1_title": true,
   "title_cell": "Table of Contents",
   "title_sidebar": "Contents",
   "toc_cell": false,
   "toc_position": {},
   "toc_section_display": true,
   "toc_window_display": true
  }
 },
 "nbformat": 4,
 "nbformat_minor": 5
}
